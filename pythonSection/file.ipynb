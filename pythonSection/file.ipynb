{
 "cells": [
  {
   "cell_type": "code",
   "execution_count": 8,
   "metadata": {},
   "outputs": [],
   "source": [
    "from openai import OpenAI\n",
    "import os, json\n",
    "import requests\n",
    "from sklearn.metrics.pairwise import cosine_similarity"
   ]
  },
  {
   "cell_type": "code",
   "execution_count": 9,
   "metadata": {},
   "outputs": [],
   "source": [
    "client = OpenAI(\n",
    "    base_url = \"https://api.together.xyz/v1\",\n",
    "    api_key = os.environ['TOGETHER_API_KEY'],\n",
    ")\n",
    "model_name = \"meta-llama/Meta-Llama-3-8B-Instruct-Turbo\""
   ]
  },
  {
   "cell_type": "code",
   "execution_count": 10,
   "metadata": {},
   "outputs": [],
   "source": [
    "def get_chatbot_response(client,model_name,messages,temperature=0):\n",
    "    input_messages = []\n",
    "    for message in messages:\n",
    "        input_messages.append({\"role\": message[\"role\"], \"content\": message[\"content\"]})\n",
    "\n",
    "    response = client.chat.completions.create(\n",
    "        model=model_name,\n",
    "        messages=input_messages,\n",
    "        temperature=temperature,\n",
    "        top_p=0.8,\n",
    "        max_tokens=2000,\n",
    "    ).choices[0].message.content\n",
    "    \n",
    "    return response"
   ]
  },
  {
   "cell_type": "code",
   "execution_count": 11,
   "metadata": {},
   "outputs": [
    {
     "name": "stdout",
     "output_type": "stream",
     "text": [
      "The capital of Italy is Rome (Italian: Roma).\n"
     ]
    }
   ],
   "source": [
    "messages = [{'role':'user','content':\"What's the capital of Italy?\"}]\n",
    "response = get_chatbot_response(client,model_name,messages)\n",
    "print(response)"
   ]
  },
  {
   "cell_type": "code",
   "execution_count": null,
   "metadata": {},
   "outputs": [],
   "source": []
  },
  {
   "cell_type": "code",
   "execution_count": 14,
   "metadata": {},
   "outputs": [],
   "source": [
    "\n",
    "def get_embedding(text_input):\n",
    "    headers = {\n",
    "        \"Authorization\": f\"Bearer {os.environ[\"HUGGINGFACE_API_KEY\"]}\",\n",
    "        \"Content-Type\": \"application/json\"\n",
    "    }\n",
    "\n",
    "    # Correct data format for Hugging Face API\n",
    "    data = {\n",
    "        \"inputs\": text_input,  # String input, not a list\n",
    "        \"parameters\": {}  # Some models require this field\n",
    "    }\n",
    "\n",
    "    response = requests.post(os.environ[\"EMBEDDING_URL\"], headers=headers, data=json.dumps(data))\n",
    "\n",
    "    if response.status_code == 200:\n",
    "        return response.json()  # Extract embeddings from JSON response\n",
    "    else:\n",
    "        print(\"Error:\", response.text)  # Print error message if request fails\n",
    "        return None"
   ]
  },
  {
   "cell_type": "code",
   "execution_count": 15,
   "metadata": {},
   "outputs": [
    {
     "name": "stdout",
     "output_type": "stream",
     "text": [
      "[-0.051130492240190506, -0.03487968444824219, 0.06352124363183975, -0.008849618025124073, -0.03721245378255844, -0.04209030792117119, 0.016040321439504623, 0.031201209872961044, -0.012764666229486465, 0.04243600368499756, 0.055488571524620056, 0.013243424706161022, -0.0721069723367691, 0.001392629463225603, 0.09633320569992065, 0.028690965846180916, 0.11511239409446716, -0.14742842316627502, -0.07910007238388062, 0.01615915447473526, -0.036645423620939255, -0.014623756520450115, -0.03976474329829216, -0.02999095432460308, 0.030068710446357727, 0.06143716722726822, 0.0010679634287953377, -0.012805236503481865, -0.01915137842297554, -0.13846465945243835, -0.00038742137257941067, -0.006671341136097908, 0.016682470217347145, 0.026835989207029343, 0.0005176413105800748, -0.038422416895627975, -0.0032086207065731287, 0.034954339265823364, -0.009619117714464664, 0.06379406154155731, 0.029643287882208824, 0.09104535728693008, -0.10143060982227325, -0.024185175076127052, 0.046776752918958664, 0.005708231125026941, 0.027167649939656258, -0.019917041063308716, 0.01173174288123846, -0.04277414828538895, 0.04554985463619232, -0.002218053676187992, 0.014705396257340908, -0.054602622985839844, -0.007703485433012247, -0.016308290883898735, 0.00798956211656332, 0.031331710517406464, 0.0686003714799881, 0.042632635682821274, 0.08862314373254776, -0.02325996570289135, -0.14466747641563416, 0.09651283919811249, 0.009340111166238785, 0.0368332602083683, -0.04546363279223442, -0.11412601172924042, 0.023723702877759933, -0.07346644252538681, -0.005617204122245312, 0.03630177676677704, 0.04530932754278183, 0.06240107864141464, -0.01633419096469879, -0.008003400638699532, 0.07496190816164017, 0.026121946051716805, -0.04179666191339493, 0.03447165712714195, 0.06855972111225128, 0.00870398711413145, 0.020867347717285156, 0.028728783130645752, 0.03061896376311779, -0.04229069501161575, -0.038279905915260315, 0.02877179905772209, 0.0009686092962510884, -0.0835656151175499, 0.0030136590357869864, -0.021864477545022964, 0.06346995383501053, 0.045271992683410645, -0.11241120100021362, 0.059557393193244934, 0.025048760697245598, -0.05893666669726372, -0.05487917736172676, 0.3075920343399048, -0.018444713205099106, 0.03552720695734024, 0.05857939273118973, -0.03924036771059036, 0.03417309373617172, -0.05091756209731102, -0.01915554329752922, -0.03736879304051399, -0.04585682228207588, 0.05723102390766144, -0.0076307919807732105, -0.04095076024532318, 0.06037437915802002, 0.007648460101336241, -0.0038850181736052036, -0.04020330309867859, 0.0525989755988121, 0.05079461261630058, 0.05270150676369667, 0.05038577690720558, 0.010482118465006351, 0.017525741830468178, -0.00739431194961071, 0.01677676849067211, -0.0017172112129628658, -0.025308758020401, 0.002422882942482829, 0.03614095225930214, -0.03107600286602974, 0.021299539133906364, 0.009084946475923061, 0.010959106497466564, -0.08859795331954956, 0.055669426918029785, 0.03624534234404564, -0.024882448837161064, 0.0033673509024083614, -0.015333396382629871, 0.020870529115200043, 0.006706909742206335, -0.07795163244009018, -0.027855265885591507, 0.08829174190759659, -0.0778869241476059, 0.01204245537519455, 0.03469070419669151, -0.0002375722542637959, 0.051334481686353683, -0.00018691355944611132, 0.04058448597788811, -0.03222057968378067, 0.08383646607398987, 0.03332986682653427, 0.016663461923599243, 0.019491024315357208, 0.01305894460529089, -0.018893606960773468, -0.03901304304599762, -0.019138338044285774, 0.0817902684211731, -0.007976815104484558, 0.007554098963737488, -0.06247122213244438, -0.01981952041387558, -0.011084099300205708, -0.17092591524124146, 0.007636527065187693, 0.051143892109394073, -0.04710262268781662, -0.0005139596178196371, -0.01014755293726921, -0.006383654195815325, 0.024061482399702072, -0.030709512531757355, 0.06724468618631363, -0.029540203511714935, 0.02660159207880497, 0.09418786317110062, -0.006455766037106514, -0.005637895315885544, -0.02304796874523163, -0.029273895546793938, -0.10096295922994614, 0.05095837265253067, 0.0613226518034935, -0.027205098420381546, 0.016544580459594727, -0.012898184359073639, 0.08332709223031998, -0.015869196504354477, 0.024968745186924934, 0.03085574135184288, -0.07328511029481888, 0.058871082961559296, -0.03924049437046051, -0.015750257298350334, 0.011330235749483109, 0.03896253928542137, 0.0028001228347420692, -0.05526643991470337, 0.014596160501241684, -0.0066948337480425835, 0.023877592757344246, 0.0340004563331604, 0.07200519740581512, -0.004532243590801954, 0.0009633926092647016, -0.049769628793001175, 0.031050922349095345, 0.018971767276525497, -0.0006066912901587784, 0.013588983565568924, 0.12549319863319397, -0.016360027715563774, -0.0013973384629935026, -0.07946199178695679, -0.026762787252664566, 0.04045587033033371, -0.04470224678516388, -0.03767400234937668, -0.004695638082921505, 0.05611876770853996, 0.025858543813228607, -0.2580913007259369, 0.042338401079177856, -0.008615841157734394, -0.06735400855541229, -0.008498352952301502, -0.034336335957050323, -0.002192332176491618, -0.042129065841436386, 0.06205039471387863, 0.040086690336465836, -0.017720330506563187, 0.013832771219313145, 0.06376880407333374, 0.02982214279472828, 0.056509602814912796, 0.006779425777494907, 0.014051161706447601, -0.06295978277921677, 0.035343434661626816, 0.009033609181642532, -0.03701773285865784, 0.010267422534525394, 0.027523715049028397, -0.014282074756920338, -0.010232346132397652, -0.09645005315542221, 0.05049038305878639, 0.006112745031714439, 0.012468325905501842, 0.013988295570015907, 0.04086723551154137, 0.053563106805086136, -0.03325384110212326, -0.12139366567134857, -0.0020248498767614365, 0.03432328253984451, 0.03377419337630272, 0.06372196227312088, -0.0763840302824974, -0.09169641137123108, 0.0017795521998777986, 0.02508821338415146, 0.04267951473593712, -0.06497557461261749, 0.022112324833869934, 0.019997239112854004, -0.016734279692173004, 0.038581106811761856, -0.04531657695770264, -0.027046827599406242, 0.044520117342472076, -0.009550432674586773, 0.06728018820285797, 0.022000841796398163, 0.04758897423744202, -0.021510664373636246, -0.054884668439626694, 0.01576806604862213, 0.01364373229444027, -0.004688137676566839, -0.04435451328754425, 0.011540576815605164, -0.06545954197645187, -0.08112721145153046, 0.015874218195676804, 0.0015880258288234472, -0.026352573186159134, -0.13052643835544586, -0.0564497709274292, -0.12105339765548706, -0.0008232129039242864, 0.0027373924385756254, -0.029656749218702316, 0.01608840376138687, 0.02263084053993225, -0.02089155651628971, 0.08816459029912949, 0.029886802658438683, 0.03689109906554222, -0.03621673211455345, -0.006793044973164797, 0.11393778771162033, 0.03977172076702118, -0.020681502297520638, 0.0007233871147036552, 0.04087328538298607, 0.055458784103393555, -0.030820205807685852, 0.017009805887937546, -0.0340798944234848, -0.002341321436688304, -0.04136162996292114, 0.01866805925965309, -0.08510682731866837, 0.06501833349466324, -0.008786970749497414, -0.1583229899406433, -0.0008265321375802159, 0.021027375012636185, 0.013786598108708858, -0.05869992449879646, -0.024011554196476936, 0.02690907008945942, -0.017729004845023155, -0.030006278306245804, 0.03858057036995888, -0.043450817465782166, -0.0363667756319046, 0.005212677177041769, -0.021975422278046608, -0.010401959531009197, 0.02414415031671524, 0.08209691196680069, 0.009216335602104664, 0.014133022166788578, 0.010358192957937717, -0.024425264447927475, -0.029473546892404556, 0.059719402343034744, -0.07124148309230804, -0.030720975250005722, 0.02884552627801895, 0.025598913431167603, 0.023288287222385406, -0.0063953157514333725, 0.033597223460674286, 0.021535927429795265, 0.0071389577351510525, 0.05435209348797798, 0.02753501757979393, -0.023080911487340927, -0.010373087599873543, -0.0496966689825058, -0.03223840519785881, -0.030166229233145714, 0.027762291952967644, -0.05342891439795494, 0.003906698897480965, -0.13126744329929352, 0.019333168864250183, 0.06344852596521378, -0.05073360726237297, -0.04651014506816864, 0.03338402137160301, -0.033432599157094955, -0.010470888577401638, -0.00973790604621172, -0.03938677906990051, 0.000288862589513883, 0.03031310997903347, 0.05333269014954567, -0.0010199869284406304, -0.01292454358190298, -0.044331472367048264, 0.033647291362285614, 0.04047849029302597, 0.026268448680639267, 0.006011681631207466, -0.05601194500923157, 0.016448648646473885, -0.013685930520296097]\n"
     ]
    }
   ],
   "source": [
    "# Example usage:\n",
    "user_prompt = \"What's new in iPhone 16?\"\n",
    "user_prompt_embeddings = get_embedding(user_prompt)\n",
    "print(user_prompt_embeddings)  # Check output"
   ]
  },
  {
   "cell_type": "code",
   "execution_count": 16,
   "metadata": {},
   "outputs": [],
   "source": [
    "API_URL = \"https://api-inference.huggingface.co/models/sentence-transformers/all-MiniLM-L6-v2\"\n",
    "headers = {\"Authorization\": f\"Bearer {os.environ[\"HUGGINGFACE_API_KEY\"]}\"}"
   ]
  },
  {
   "cell_type": "code",
   "execution_count": 17,
   "metadata": {},
   "outputs": [
    {
     "data": {
      "text/plain": [
       "[0.7835574150085449, 0.24784895777702332, 0.19391104578971863]"
      ]
     },
     "execution_count": 17,
     "metadata": {},
     "output_type": "execute_result"
    }
   ],
   "source": [
    "def query(payload):\n",
    "\tresponse = requests.post(API_URL, headers=headers, json=payload)\n",
    "\treturn response.json()\n",
    "\t\n",
    "output = query({\n",
    "\t\"inputs\": {\n",
    "\t\"source_sentence\": \"mouad ayoub\",\n",
    "\t\"sentences\": [\n",
    "\t\t\"mouad ayoub 12\",\n",
    "\t\t\"hassan touhami\",\n",
    "\t\t\"ggggggggggooooooooood\"\n",
    "\t]\n",
    "},\n",
    "})\n",
    "\n",
    "\n",
    "output"
   ]
  },
  {
   "cell_type": "code",
   "execution_count": 18,
   "metadata": {},
   "outputs": [
    {
     "name": "stdout",
     "output_type": "stream",
     "text": [
      "(1, 384)\n"
     ]
    }
   ],
   "source": [
    "from sentence_transformers import SentenceTransformer\n",
    "sentences = [\"mouad yooo\"]\n",
    "\n",
    "model = SentenceTransformer('sentence-transformers/all-MiniLM-L6-v2')\n",
    "embeddings = model.encode(sentences)\n",
    "print(embeddings.shape)\n"
   ]
  },
  {
   "cell_type": "code",
   "execution_count": 19,
   "metadata": {},
   "outputs": [
    {
     "data": {
      "text/plain": [
       "384"
      ]
     },
     "execution_count": 19,
     "metadata": {},
     "output_type": "execute_result"
    }
   ],
   "source": [
    "len(embeddings[0])"
   ]
  },
  {
   "cell_type": "code",
   "execution_count": 20,
   "metadata": {},
   "outputs": [],
   "source": [
    "samsung_s23 = \"\"\"\n",
    "The Samsung Galaxy S23 brings some incremental but notable upgrades to its predecessor, the Galaxy S22. It features the Snapdragon 8 Gen 2 processor, a powerful chip optimized for the S23 series, delivering enhanced performance, especially for gaming and multitasking. This chip ensures top-tier speed and efficiency across all models, from the base S23 to the larger S23+ and S23 Ultra​\n",
    "STUFF\n",
    "\n",
    "TECHRADAR\n",
    ".\n",
    "\n",
    "In terms of design, the S23's camera module has been streamlined by removing the raised metal contour around the cameras, creating a cleaner, sleeker look. It also sports the same 6.1-inch 120Hz AMOLED display, protected by tougher Gorilla Glass Victus 2, making it more resistant to scratches and drops​\n",
    "TECHRADAR\n",
    ".\n",
    "\n",
    "The S23 Ultra stands out with its 200MP main camera, offering impressive photo clarity, especially in low-light conditions. The selfie camera across the series has been updated to a 12MP sensor, resulting in sharper selfies. The Ultra model also includes productivity tools such as the S-Pen, which remains an essential feature for note-taking and creative tasks​\n",
    "STUFF\n",
    "\n",
    "TECHRADAR\n",
    ".\n",
    "\n",
    "Battery life is solid, with the S23 Ultra featuring a 5000mAh battery that lasts comfortably through a day of heavy use. However, charging speeds still lag behind some competitors, with 45W wired charging, which is slower than other brands offering up to 125W charging​\n",
    "STUFF\n",
    ".\n",
    "\n",
    "Overall, the Galaxy S23 series enhances performance, durability, and camera quality, making it a strong contender for users seeking a high-performance flagship.\n",
    "\"\"\"\n",
    "\n"
   ]
  },
  {
   "cell_type": "code",
   "execution_count": 21,
   "metadata": {},
   "outputs": [],
   "source": [
    "iphone_16 = \"\"\"\n",
    "The iPhone 16 introduces several exciting updates, making it one of Apple's most advanced smartphones to date. It features a larger 6.1-inch display for the base model and a 6.7-inch screen for the iPhone 16 Plus, with thinner bezels and a more durable Ceramic Shield. The iPhone 16 Pro and Pro Max boast even larger displays, measuring 6.3 and 6.9 inches respectively, offering the thinnest bezels seen on any Apple product so far.\n",
    "\n",
    "Powered by the new A18 chip (A18 Pro for the Pro models), these phones deliver significant performance improvements, with enhanced neural engine capabilities, faster GPU for gaming, and machine learning tasks. The camera systems are also upgraded, with the base iPhone 16 sporting a dual-camera setup with a 48MP main sensor. The Pro models offer a 48MP Ultra Wide and 5x telephoto camera, enhanced by Apple’s \"Camera Control\" button for more flexible photography options.\n",
    "\n",
    "Apple also introduced advanced audio features like \"Audio Mix,\" which uses machine learning to separate background sounds from speech, allowing for more refined audio capture during video recording. Battery life has been extended, especially in the iPhone 16 Pro Max, which is claimed to have the longest-lasting battery of any iPhone \n",
    "9TO5MAC\n",
    "\n",
    "APPLEMAGAZINE\n",
    ".\n",
    "\n",
    "Additionally, Apple has switched to USB-C for faster charging and data transfer, and the Pro models now support up to 2x faster video encoding. The starting prices remain consistent with previous generations, with the iPhone 16 starting at $799, while the Pro models start at $999\n",
    "\"\"\""
   ]
  },
  {
   "cell_type": "code",
   "execution_count": 22,
   "metadata": {},
   "outputs": [],
   "source": [
    "data = [iphone_16, samsung_s23]"
   ]
  },
  {
   "cell_type": "code",
   "execution_count": 23,
   "metadata": {},
   "outputs": [],
   "source": [
    "user_prompt = \"\"\"What's new in iphone 16?\"\"\""
   ]
  },
  {
   "cell_type": "code",
   "execution_count": 42,
   "metadata": {},
   "outputs": [
    {
     "data": {
      "text/plain": [
       "(384,)"
      ]
     },
     "execution_count": 42,
     "metadata": {},
     "output_type": "execute_result"
    }
   ],
   "source": [
    "user_prompt_embeddings = model.encode(user_prompt)\n",
    "user_prompt_embeddings.shape"
   ]
  },
  {
   "cell_type": "code",
   "execution_count": null,
   "metadata": {},
   "outputs": [],
   "source": [
    "data_embeddings = model.encode(data)"
   ]
  },
  {
   "cell_type": "code",
   "execution_count": 31,
   "metadata": {},
   "outputs": [
    {
     "name": "stdout",
     "output_type": "stream",
     "text": [
      "(2, 384)\n"
     ]
    }
   ],
   "source": [
    "print(data_embeddings.shape)"
   ]
  },
  {
   "cell_type": "code",
   "execution_count": 44,
   "metadata": {},
   "outputs": [
    {
     "data": {
      "text/plain": [
       "array([[0.6264995 , 0.34021363]], dtype=float32)"
      ]
     },
     "execution_count": 44,
     "metadata": {},
     "output_type": "execute_result"
    }
   ],
   "source": [
    "data_similaraty_scores = cosine_similarity(user_prompt_embeddings.reshape(1, -1), data_embeddings)\n",
    "data_similaraty_scores"
   ]
  }
 ],
 "metadata": {
  "kernelspec": {
   "display_name": "base",
   "language": "python",
   "name": "python3"
  },
  "language_info": {
   "codemirror_mode": {
    "name": "ipython",
    "version": 3
   },
   "file_extension": ".py",
   "mimetype": "text/x-python",
   "name": "python",
   "nbconvert_exporter": "python",
   "pygments_lexer": "ipython3",
   "version": "3.12.3"
  }
 },
 "nbformat": 4,
 "nbformat_minor": 2
}
