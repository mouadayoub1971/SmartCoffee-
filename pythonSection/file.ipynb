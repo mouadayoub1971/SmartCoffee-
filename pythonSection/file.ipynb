{
 "cells": [
  {
   "cell_type": "code",
   "execution_count": 1,
   "metadata": {},
   "outputs": [],
   "source": [
    "from openai import OpenAI\n",
    "import os, json\n",
    "import requests\n",
    "from sklearn.metrics.pairwise import cosine_similarity"
   ]
  },
  {
   "cell_type": "code",
   "execution_count": 3,
   "metadata": {},
   "outputs": [],
   "source": [
    "client = OpenAI(\n",
    "    base_url = \"https://api.together.xyz/v1\",\n",
    "    api_key = os.environ['TOGETHER_API_KEY'],\n",
    ")\n",
    "model_name = \"meta-llama/Meta-Llama-3-8B-Instruct-Turbo\"\n"
   ]
  },
  {
   "cell_type": "code",
   "execution_count": 4,
   "metadata": {},
   "outputs": [],
   "source": [
    "def get_chatbot_response(client,model_name,messages,temperature=0):\n",
    "    input_messages = []\n",
    "    for message in messages:\n",
    "        input_messages.append({\"role\": message[\"role\"], \"content\": message[\"content\"]})\n",
    "\n",
    "    response = client.chat.completions.create(\n",
    "        model=model_name,\n",
    "        messages=input_messages,\n",
    "        temperature=temperature,\n",
    "        top_p=0.8,\n",
    "        max_tokens=2000,\n",
    "    ).choices[0].message.content\n",
    "    \n",
    "    return response"
   ]
  },
  {
   "cell_type": "code",
   "execution_count": 5,
   "metadata": {},
   "outputs": [
    {
     "name": "stdout",
     "output_type": "stream",
     "text": [
      "The capital of Italy is Rome (Italian: Roma).\n"
     ]
    }
   ],
   "source": [
    "messages = [{'role':'user','content':\"What's the capital of Italy?\"}]\n",
    "response = get_chatbot_response(client,model_name,messages)\n",
    "print(response)"
   ]
  },
  {
   "cell_type": "code",
   "execution_count": null,
   "metadata": {},
   "outputs": [],
   "source": [
    "\n",
    "def get_embedding(embedding_client,model_name,text_input):\n",
    "    output = embedding_client.embeddings.create(input = text_input,model=model_name)\n",
    "    \n",
    "    embedings = []\n",
    "    for embedding_object in output.data:\n",
    "        embedings.append(embedding_object.embedding)\n",
    "\n",
    "    return embedings\n"
   ]
  },
  {
   "cell_type": "code",
   "execution_count": null,
   "metadata": {},
   "outputs": [],
   "source": [
    "user_prompt = \"\"\"What's new in iphone 16?\"\"\"\n",
    "user_prompt_embeddings = get_embedding(embedding_client,model_name,user_prompt)"
   ]
  },
  {
   "cell_type": "code",
   "execution_count": null,
   "metadata": {},
   "outputs": [],
   "source": [
    "\n",
    "def get_embedding(text_input):\n",
    "    headers = {\n",
    "        \"Authorization\": f\"Bearer {os.environ[\"HUGGINGFACE_API_KEY\"]}\",\n",
    "        \"Content-Type\": \"application/json\"\n",
    "    }\n",
    "\n",
    "    # Correct data format for Hugging Face API\n",
    "    data = {\n",
    "        \"inputs\": text_input,  # String input, not a list\n",
    "        \"parameters\": {}  # Some models require this field\n",
    "    }\n",
    "\n",
    "    response = requests.post(os.environ[\"EMBEDDING_URL\"], headers=headers, data=json.dumps(data))\n",
    "\n",
    "    if response.status_code == 200:\n",
    "        return response.json()  # Extract embeddings from JSON response\n",
    "    else:\n",
    "        print(\"Error:\", response.text)  # Print error message if request fails\n",
    "        return None"
   ]
  },
  {
   "cell_type": "code",
   "execution_count": 7,
   "metadata": {},
   "outputs": [
    {
     "name": "stdout",
     "output_type": "stream",
     "text": [
      "Error: {\"error\":\"Model BAAI/bge-small-en-v1.5 is currently loading\",\"estimated_time\":20.0}\n",
      "None\n"
     ]
    }
   ],
   "source": [
    "# Example usage:\n",
    "user_prompt = \"What's new in iPhone 16?\"\n",
    "user_prompt_embeddings = get_embedding(user_prompt)\n",
    "print(user_prompt_embeddings)  # Check output"
   ]
  },
  {
   "cell_type": "code",
   "execution_count": 34,
   "metadata": {},
   "outputs": [],
   "source": [
    "API_URL = \"https://api-inference.huggingface.co/models/sentence-transformers/all-MiniLM-L6-v2\"\n",
    "headers = {\"Authorization\": f\"Bearer {os.environ[\"HUGGINGFACE_API_KEY\"]}\"}"
   ]
  },
  {
   "cell_type": "code",
   "execution_count": 36,
   "metadata": {},
   "outputs": [
    {
     "data": {
      "text/plain": [
       "[0.7835574150085449, 0.24784895777702332, 0.19391104578971863]"
      ]
     },
     "execution_count": 36,
     "metadata": {},
     "output_type": "execute_result"
    }
   ],
   "source": [
    "def query(payload):\n",
    "\tresponse = requests.post(API_URL, headers=headers, json=payload)\n",
    "\treturn response.json()\n",
    "\t\n",
    "output = query({\n",
    "\t\"inputs\": {\n",
    "\t\"source_sentence\": \"mouad ayoub\",\n",
    "\t\"sentences\": [\n",
    "\t\t\"mouad ayoub 12\",\n",
    "\t\t\"hassan touhami\",\n",
    "\t\t\"ggggggggggooooooooood\"\n",
    "\t]\n",
    "},\n",
    "})\n",
    "\n",
    "\n",
    "output"
   ]
  },
  {
   "cell_type": "code",
   "execution_count": 1,
   "metadata": {},
   "outputs": [
    {
     "name": "stdout",
     "output_type": "stream",
     "text": [
      "WARNING:tensorflow:From c:\\Users\\mouad\\anaconda3\\Lib\\site-packages\\tf_keras\\src\\losses.py:2976: The name tf.losses.sparse_softmax_cross_entropy is deprecated. Please use tf.compat.v1.losses.sparse_softmax_cross_entropy instead.\n",
      "\n",
      "(1, 384)\n"
     ]
    }
   ],
   "source": [
    "from sentence_transformers import SentenceTransformer\n",
    "sentences = [\"mouad yooo\"]\n",
    "\n",
    "model = SentenceTransformer('sentence-transformers/all-MiniLM-L6-v2')\n",
    "embeddings = model.encode(sentences)\n",
    "print(embeddings.shape)\n"
   ]
  },
  {
   "cell_type": "code",
   "execution_count": 3,
   "metadata": {},
   "outputs": [
    {
     "name": "stdout",
     "output_type": "stream",
     "text": [
      "Collecting tf-keras\n",
      "  Downloading tf_keras-2.18.0-py3-none-any.whl.metadata (1.6 kB)\n",
      "Requirement already satisfied: tensorflow<2.19,>=2.18 in c:\\users\\mouad\\anaconda3\\lib\\site-packages (from tf-keras) (2.18.0)\n",
      "Requirement already satisfied: tensorflow-intel==2.18.0 in c:\\users\\mouad\\anaconda3\\lib\\site-packages (from tensorflow<2.19,>=2.18->tf-keras) (2.18.0)\n",
      "Requirement already satisfied: absl-py>=1.0.0 in c:\\users\\mouad\\anaconda3\\lib\\site-packages (from tensorflow-intel==2.18.0->tensorflow<2.19,>=2.18->tf-keras) (2.1.0)\n",
      "Requirement already satisfied: astunparse>=1.6.0 in c:\\users\\mouad\\anaconda3\\lib\\site-packages (from tensorflow-intel==2.18.0->tensorflow<2.19,>=2.18->tf-keras) (1.6.3)\n",
      "Requirement already satisfied: flatbuffers>=24.3.25 in c:\\users\\mouad\\anaconda3\\lib\\site-packages (from tensorflow-intel==2.18.0->tensorflow<2.19,>=2.18->tf-keras) (24.3.25)\n",
      "Requirement already satisfied: gast!=0.5.0,!=0.5.1,!=0.5.2,>=0.2.1 in c:\\users\\mouad\\anaconda3\\lib\\site-packages (from tensorflow-intel==2.18.0->tensorflow<2.19,>=2.18->tf-keras) (0.6.0)\n",
      "Requirement already satisfied: google-pasta>=0.1.1 in c:\\users\\mouad\\anaconda3\\lib\\site-packages (from tensorflow-intel==2.18.0->tensorflow<2.19,>=2.18->tf-keras) (0.2.0)\n",
      "Requirement already satisfied: libclang>=13.0.0 in c:\\users\\mouad\\anaconda3\\lib\\site-packages (from tensorflow-intel==2.18.0->tensorflow<2.19,>=2.18->tf-keras) (18.1.1)\n",
      "Requirement already satisfied: opt-einsum>=2.3.2 in c:\\users\\mouad\\anaconda3\\lib\\site-packages (from tensorflow-intel==2.18.0->tensorflow<2.19,>=2.18->tf-keras) (3.4.0)\n",
      "Requirement already satisfied: packaging in c:\\users\\mouad\\anaconda3\\lib\\site-packages (from tensorflow-intel==2.18.0->tensorflow<2.19,>=2.18->tf-keras) (23.2)\n",
      "Requirement already satisfied: protobuf!=4.21.0,!=4.21.1,!=4.21.2,!=4.21.3,!=4.21.4,!=4.21.5,<6.0.0dev,>=3.20.3 in c:\\users\\mouad\\anaconda3\\lib\\site-packages (from tensorflow-intel==2.18.0->tensorflow<2.19,>=2.18->tf-keras) (4.25.3)\n",
      "Requirement already satisfied: requests<3,>=2.21.0 in c:\\users\\mouad\\anaconda3\\lib\\site-packages (from tensorflow-intel==2.18.0->tensorflow<2.19,>=2.18->tf-keras) (2.32.2)\n",
      "Requirement already satisfied: setuptools in c:\\users\\mouad\\anaconda3\\lib\\site-packages (from tensorflow-intel==2.18.0->tensorflow<2.19,>=2.18->tf-keras) (69.5.1)\n",
      "Requirement already satisfied: six>=1.12.0 in c:\\users\\mouad\\anaconda3\\lib\\site-packages (from tensorflow-intel==2.18.0->tensorflow<2.19,>=2.18->tf-keras) (1.16.0)\n",
      "Requirement already satisfied: termcolor>=1.1.0 in c:\\users\\mouad\\anaconda3\\lib\\site-packages (from tensorflow-intel==2.18.0->tensorflow<2.19,>=2.18->tf-keras) (2.5.0)\n",
      "Requirement already satisfied: typing-extensions>=3.6.6 in c:\\users\\mouad\\anaconda3\\lib\\site-packages (from tensorflow-intel==2.18.0->tensorflow<2.19,>=2.18->tf-keras) (4.12.2)\n",
      "Requirement already satisfied: wrapt>=1.11.0 in c:\\users\\mouad\\anaconda3\\lib\\site-packages (from tensorflow-intel==2.18.0->tensorflow<2.19,>=2.18->tf-keras) (1.14.1)\n",
      "Requirement already satisfied: grpcio<2.0,>=1.24.3 in c:\\users\\mouad\\anaconda3\\lib\\site-packages (from tensorflow-intel==2.18.0->tensorflow<2.19,>=2.18->tf-keras) (1.68.1)\n",
      "Requirement already satisfied: tensorboard<2.19,>=2.18 in c:\\users\\mouad\\anaconda3\\lib\\site-packages (from tensorflow-intel==2.18.0->tensorflow<2.19,>=2.18->tf-keras) (2.18.0)\n",
      "Requirement already satisfied: keras>=3.5.0 in c:\\users\\mouad\\anaconda3\\lib\\site-packages (from tensorflow-intel==2.18.0->tensorflow<2.19,>=2.18->tf-keras) (3.7.0)\n",
      "Requirement already satisfied: numpy<2.1.0,>=1.26.0 in c:\\users\\mouad\\anaconda3\\lib\\site-packages (from tensorflow-intel==2.18.0->tensorflow<2.19,>=2.18->tf-keras) (1.26.4)\n",
      "Requirement already satisfied: h5py>=3.11.0 in c:\\users\\mouad\\anaconda3\\lib\\site-packages (from tensorflow-intel==2.18.0->tensorflow<2.19,>=2.18->tf-keras) (3.11.0)\n",
      "Requirement already satisfied: ml-dtypes<0.5.0,>=0.4.0 in c:\\users\\mouad\\anaconda3\\lib\\site-packages (from tensorflow-intel==2.18.0->tensorflow<2.19,>=2.18->tf-keras) (0.4.1)\n",
      "Requirement already satisfied: wheel<1.0,>=0.23.0 in c:\\users\\mouad\\anaconda3\\lib\\site-packages (from astunparse>=1.6.0->tensorflow-intel==2.18.0->tensorflow<2.19,>=2.18->tf-keras) (0.43.0)\n",
      "Requirement already satisfied: rich in c:\\users\\mouad\\anaconda3\\lib\\site-packages (from keras>=3.5.0->tensorflow-intel==2.18.0->tensorflow<2.19,>=2.18->tf-keras) (13.9.4)\n",
      "Requirement already satisfied: namex in c:\\users\\mouad\\anaconda3\\lib\\site-packages (from keras>=3.5.0->tensorflow-intel==2.18.0->tensorflow<2.19,>=2.18->tf-keras) (0.0.8)\n",
      "Requirement already satisfied: optree in c:\\users\\mouad\\anaconda3\\lib\\site-packages (from keras>=3.5.0->tensorflow-intel==2.18.0->tensorflow<2.19,>=2.18->tf-keras) (0.13.1)\n",
      "Requirement already satisfied: charset-normalizer<4,>=2 in c:\\users\\mouad\\anaconda3\\lib\\site-packages (from requests<3,>=2.21.0->tensorflow-intel==2.18.0->tensorflow<2.19,>=2.18->tf-keras) (2.0.4)\n",
      "Requirement already satisfied: idna<4,>=2.5 in c:\\users\\mouad\\anaconda3\\lib\\site-packages (from requests<3,>=2.21.0->tensorflow-intel==2.18.0->tensorflow<2.19,>=2.18->tf-keras) (2.10)\n",
      "Requirement already satisfied: urllib3<3,>=1.21.1 in c:\\users\\mouad\\anaconda3\\lib\\site-packages (from requests<3,>=2.21.0->tensorflow-intel==2.18.0->tensorflow<2.19,>=2.18->tf-keras) (2.2.2)\n",
      "Requirement already satisfied: certifi>=2017.4.17 in c:\\users\\mouad\\anaconda3\\lib\\site-packages (from requests<3,>=2.21.0->tensorflow-intel==2.18.0->tensorflow<2.19,>=2.18->tf-keras) (2025.1.31)\n",
      "Requirement already satisfied: markdown>=2.6.8 in c:\\users\\mouad\\anaconda3\\lib\\site-packages (from tensorboard<2.19,>=2.18->tensorflow-intel==2.18.0->tensorflow<2.19,>=2.18->tf-keras) (3.4.1)\n",
      "Requirement already satisfied: tensorboard-data-server<0.8.0,>=0.7.0 in c:\\users\\mouad\\anaconda3\\lib\\site-packages (from tensorboard<2.19,>=2.18->tensorflow-intel==2.18.0->tensorflow<2.19,>=2.18->tf-keras) (0.7.2)\n",
      "Requirement already satisfied: werkzeug>=1.0.1 in c:\\users\\mouad\\anaconda3\\lib\\site-packages (from tensorboard<2.19,>=2.18->tensorflow-intel==2.18.0->tensorflow<2.19,>=2.18->tf-keras) (3.0.3)\n",
      "Requirement already satisfied: MarkupSafe>=2.1.1 in c:\\users\\mouad\\anaconda3\\lib\\site-packages (from werkzeug>=1.0.1->tensorboard<2.19,>=2.18->tensorflow-intel==2.18.0->tensorflow<2.19,>=2.18->tf-keras) (2.1.3)\n",
      "Requirement already satisfied: markdown-it-py>=2.2.0 in c:\\users\\mouad\\anaconda3\\lib\\site-packages (from rich->keras>=3.5.0->tensorflow-intel==2.18.0->tensorflow<2.19,>=2.18->tf-keras) (2.2.0)\n",
      "Requirement already satisfied: pygments<3.0.0,>=2.13.0 in c:\\users\\mouad\\anaconda3\\lib\\site-packages (from rich->keras>=3.5.0->tensorflow-intel==2.18.0->tensorflow<2.19,>=2.18->tf-keras) (2.15.1)\n",
      "Requirement already satisfied: mdurl~=0.1 in c:\\users\\mouad\\anaconda3\\lib\\site-packages (from markdown-it-py>=2.2.0->rich->keras>=3.5.0->tensorflow-intel==2.18.0->tensorflow<2.19,>=2.18->tf-keras) (0.1.0)\n",
      "Downloading tf_keras-2.18.0-py3-none-any.whl (1.7 MB)\n",
      "   ---------------------------------------- 0.0/1.7 MB ? eta -:--:--\n",
      "   ---------------------------------------- 0.0/1.7 MB ? eta -:--:--\n",
      "   ---------------------------------------- 0.0/1.7 MB ? eta -:--:--\n",
      "   ---------------------------------------- 0.0/1.7 MB ? eta -:--:--\n",
      "   ---------------------------------------- 0.0/1.7 MB ? eta -:--:--\n",
      "   ---------------------------------------- 0.0/1.7 MB ? eta -:--:--\n",
      "   ---------------------------------------- 0.0/1.7 MB ? eta -:--:--\n",
      "   ---------------------------------------- 0.0/1.7 MB ? eta -:--:--\n",
      "   ---------------------------------------- 0.0/1.7 MB ? eta -:--:--\n",
      "   ---------------------------------------- 0.0/1.7 MB ? eta -:--:--\n",
      "   ---------------------------------------- 0.0/1.7 MB ? eta -:--:--\n",
      "   ---------------------------------------- 0.0/1.7 MB ? eta -:--:--\n",
      "   ---------------------------------------- 0.0/1.7 MB ? eta -:--:--\n",
      "   ---------------------------------------- 0.0/1.7 MB ? eta -:--:--\n",
      "   ---------------------------------------- 0.0/1.7 MB ? eta -:--:--\n",
      "   ---------------------------------------- 0.0/1.7 MB ? eta -:--:--\n",
      "   ---------------------------------------- 0.0/1.7 MB ? eta -:--:--\n",
      "   ---------------------------------------- 0.0/1.7 MB ? eta -:--:--\n",
      "   ---------------------------------------- 0.0/1.7 MB ? eta -:--:--\n",
      "   ---------------------------------------- 0.0/1.7 MB ? eta -:--:--\n",
      "   ---------------------------------------- 0.0/1.7 MB ? eta -:--:--\n",
      "   ---------------------------------------- 0.0/1.7 MB ? eta -:--:--\n",
      "   ---------------------------------------- 0.0/1.7 MB ? eta -:--:--\n",
      "   ------ --------------------------------- 0.3/1.7 MB ? eta -:--:--\n",
      "   ------ --------------------------------- 0.3/1.7 MB ? eta -:--:--\n",
      "   ------ --------------------------------- 0.3/1.7 MB ? eta -:--:--\n",
      "   ------ --------------------------------- 0.3/1.7 MB ? eta -:--:--\n",
      "   ------ --------------------------------- 0.3/1.7 MB ? eta -:--:--\n",
      "   ------ --------------------------------- 0.3/1.7 MB ? eta -:--:--\n",
      "   ------ --------------------------------- 0.3/1.7 MB ? eta -:--:--\n",
      "   ------ --------------------------------- 0.3/1.7 MB ? eta -:--:--\n",
      "   ------ --------------------------------- 0.3/1.7 MB ? eta -:--:--\n",
      "   ------ --------------------------------- 0.3/1.7 MB ? eta -:--:--\n",
      "   ------ --------------------------------- 0.3/1.7 MB ? eta -:--:--\n",
      "   ------ --------------------------------- 0.3/1.7 MB ? eta -:--:--\n",
      "   ------ --------------------------------- 0.3/1.7 MB ? eta -:--:--\n",
      "   ------ --------------------------------- 0.3/1.7 MB ? eta -:--:--\n",
      "   ------ --------------------------------- 0.3/1.7 MB ? eta -:--:--\n",
      "   ------ --------------------------------- 0.3/1.7 MB ? eta -:--:--\n",
      "   ------ --------------------------------- 0.3/1.7 MB ? eta -:--:--\n",
      "   ------ --------------------------------- 0.3/1.7 MB ? eta -:--:--\n",
      "   ------ --------------------------------- 0.3/1.7 MB ? eta -:--:--\n",
      "   ------ --------------------------------- 0.3/1.7 MB ? eta -:--:--\n",
      "   ------ --------------------------------- 0.3/1.7 MB ? eta -:--:--\n",
      "   ------------ --------------------------- 0.5/1.7 MB 58.9 kB/s eta 0:00:21\n",
      "   ------------ --------------------------- 0.5/1.7 MB 58.9 kB/s eta 0:00:21\n",
      "   ------------ --------------------------- 0.5/1.7 MB 58.9 kB/s eta 0:00:21\n",
      "   ------------ --------------------------- 0.5/1.7 MB 58.9 kB/s eta 0:00:21\n",
      "   ------------ --------------------------- 0.5/1.7 MB 58.9 kB/s eta 0:00:21\n",
      "   ------------ --------------------------- 0.5/1.7 MB 58.9 kB/s eta 0:00:21\n",
      "   ------------ --------------------------- 0.5/1.7 MB 58.9 kB/s eta 0:00:21\n",
      "   ------------ --------------------------- 0.5/1.7 MB 58.9 kB/s eta 0:00:21\n",
      "   ------------ --------------------------- 0.5/1.7 MB 58.9 kB/s eta 0:00:21\n",
      "   ------------ --------------------------- 0.5/1.7 MB 58.9 kB/s eta 0:00:21\n",
      "   ------------ --------------------------- 0.5/1.7 MB 58.9 kB/s eta 0:00:21\n",
      "   ------------ --------------------------- 0.5/1.7 MB 58.9 kB/s eta 0:00:21\n",
      "   ------------------ --------------------- 0.8/1.7 MB 74.4 kB/s eta 0:00:13\n",
      "   ------------------ --------------------- 0.8/1.7 MB 74.4 kB/s eta 0:00:13\n",
      "   ------------------ --------------------- 0.8/1.7 MB 74.4 kB/s eta 0:00:13\n",
      "   ------------------ --------------------- 0.8/1.7 MB 74.4 kB/s eta 0:00:13\n",
      "   ------------------ --------------------- 0.8/1.7 MB 74.4 kB/s eta 0:00:13\n",
      "   ------------------ --------------------- 0.8/1.7 MB 74.4 kB/s eta 0:00:13\n",
      "   ------------------ --------------------- 0.8/1.7 MB 74.4 kB/s eta 0:00:13\n",
      "   ------------------ --------------------- 0.8/1.7 MB 74.4 kB/s eta 0:00:13\n",
      "   ------------------ --------------------- 0.8/1.7 MB 74.4 kB/s eta 0:00:13\n",
      "   ------------------ --------------------- 0.8/1.7 MB 74.4 kB/s eta 0:00:13\n",
      "   ------------------ --------------------- 0.8/1.7 MB 74.4 kB/s eta 0:00:13\n",
      "   ------------------ --------------------- 0.8/1.7 MB 74.4 kB/s eta 0:00:13\n",
      "   ------------------ --------------------- 0.8/1.7 MB 74.4 kB/s eta 0:00:13\n",
      "   ------------------ --------------------- 0.8/1.7 MB 74.4 kB/s eta 0:00:13\n",
      "   ------------------ --------------------- 0.8/1.7 MB 74.4 kB/s eta 0:00:13\n",
      "   ------------------ --------------------- 0.8/1.7 MB 74.4 kB/s eta 0:00:13\n",
      "   ------------------ --------------------- 0.8/1.7 MB 74.4 kB/s eta 0:00:13\n",
      "   ------------------ --------------------- 0.8/1.7 MB 74.4 kB/s eta 0:00:13\n",
      "   ------------------ --------------------- 0.8/1.7 MB 74.4 kB/s eta 0:00:13\n",
      "   ------------------ --------------------- 0.8/1.7 MB 74.4 kB/s eta 0:00:13\n",
      "   ------------------ --------------------- 0.8/1.7 MB 74.4 kB/s eta 0:00:13\n",
      "   ------------------ --------------------- 0.8/1.7 MB 74.4 kB/s eta 0:00:13\n",
      "   ------------------ --------------------- 0.8/1.7 MB 74.4 kB/s eta 0:00:13\n",
      "   ------------------------ --------------- 1.0/1.7 MB 66.4 kB/s eta 0:00:11\n",
      "   ------------------------ --------------- 1.0/1.7 MB 66.4 kB/s eta 0:00:11\n",
      "   ------------------------ --------------- 1.0/1.7 MB 66.4 kB/s eta 0:00:11\n",
      "   ------------------------ --------------- 1.0/1.7 MB 66.4 kB/s eta 0:00:11\n",
      "   ------------------------ --------------- 1.0/1.7 MB 66.4 kB/s eta 0:00:11\n",
      "   ------------------------ --------------- 1.0/1.7 MB 66.4 kB/s eta 0:00:11\n",
      "   ------------------------ --------------- 1.0/1.7 MB 66.4 kB/s eta 0:00:11\n",
      "   ------------------------ --------------- 1.0/1.7 MB 66.4 kB/s eta 0:00:11\n",
      "   ------------------------ --------------- 1.0/1.7 MB 66.4 kB/s eta 0:00:11\n",
      "   ------------------------ --------------- 1.0/1.7 MB 66.4 kB/s eta 0:00:11\n",
      "   ------------------------ --------------- 1.0/1.7 MB 66.4 kB/s eta 0:00:11\n",
      "   ------------------------ --------------- 1.0/1.7 MB 66.4 kB/s eta 0:00:11\n",
      "   ------------------------ --------------- 1.0/1.7 MB 66.4 kB/s eta 0:00:11\n",
      "   ------------------------ --------------- 1.0/1.7 MB 66.4 kB/s eta 0:00:11\n",
      "   ------------------------ --------------- 1.0/1.7 MB 66.4 kB/s eta 0:00:11\n",
      "   ------------------------ --------------- 1.0/1.7 MB 66.4 kB/s eta 0:00:11\n",
      "   ------------------------ --------------- 1.0/1.7 MB 66.4 kB/s eta 0:00:11\n",
      "   ------------------------ --------------- 1.0/1.7 MB 66.4 kB/s eta 0:00:11\n",
      "   ------------------------------ --------- 1.3/1.7 MB 66.6 kB/s eta 0:00:07\n",
      "   ------------------------------ --------- 1.3/1.7 MB 66.6 kB/s eta 0:00:07\n",
      "   ------------------------------ --------- 1.3/1.7 MB 66.6 kB/s eta 0:00:07\n",
      "   ------------------------------ --------- 1.3/1.7 MB 66.6 kB/s eta 0:00:07\n",
      "   ------------------------------ --------- 1.3/1.7 MB 66.6 kB/s eta 0:00:07\n",
      "   ------------------------------ --------- 1.3/1.7 MB 66.6 kB/s eta 0:00:07\n",
      "   ------------------------------ --------- 1.3/1.7 MB 66.6 kB/s eta 0:00:07\n",
      "   ------------------------------ --------- 1.3/1.7 MB 66.6 kB/s eta 0:00:07\n",
      "   ------------------------------ --------- 1.3/1.7 MB 66.6 kB/s eta 0:00:07\n",
      "   ------------------------------ --------- 1.3/1.7 MB 66.6 kB/s eta 0:00:07\n",
      "   ------------------------------ --------- 1.3/1.7 MB 66.6 kB/s eta 0:00:07\n",
      "   ------------------------------ --------- 1.3/1.7 MB 66.6 kB/s eta 0:00:07\n",
      "   ------------------------------ --------- 1.3/1.7 MB 66.6 kB/s eta 0:00:07\n",
      "   ------------------------------ --------- 1.3/1.7 MB 66.6 kB/s eta 0:00:07\n",
      "   ------------------------------ --------- 1.3/1.7 MB 66.6 kB/s eta 0:00:07\n",
      "   ------------------------------ --------- 1.3/1.7 MB 66.6 kB/s eta 0:00:07\n",
      "   ------------------------------ --------- 1.3/1.7 MB 66.6 kB/s eta 0:00:07\n",
      "   ------------------------------ --------- 1.3/1.7 MB 66.6 kB/s eta 0:00:07\n",
      "   ------------------------------ --------- 1.3/1.7 MB 66.6 kB/s eta 0:00:07\n",
      "   ------------------------------ --------- 1.3/1.7 MB 66.6 kB/s eta 0:00:07\n",
      "   ------------------------------ --------- 1.3/1.7 MB 66.6 kB/s eta 0:00:07\n",
      "   ------------------------------ --------- 1.3/1.7 MB 66.6 kB/s eta 0:00:07\n",
      "   ------------------------------ --------- 1.3/1.7 MB 66.6 kB/s eta 0:00:07\n",
      "   ------------------------------ --------- 1.3/1.7 MB 66.6 kB/s eta 0:00:07\n",
      "   ------------------------------ --------- 1.3/1.7 MB 66.6 kB/s eta 0:00:07\n",
      "   ------------------------------ --------- 1.3/1.7 MB 66.6 kB/s eta 0:00:07\n",
      "   ------------------------------ --------- 1.3/1.7 MB 66.6 kB/s eta 0:00:07\n",
      "   ------------------------------ --------- 1.3/1.7 MB 66.6 kB/s eta 0:00:07\n",
      "   ------------------------------ --------- 1.3/1.7 MB 66.6 kB/s eta 0:00:07\n",
      "   ------------------------------ --------- 1.3/1.7 MB 66.6 kB/s eta 0:00:07\n",
      "   ------------------------------ --------- 1.3/1.7 MB 66.6 kB/s eta 0:00:07\n",
      "   ------------------------------ --------- 1.3/1.7 MB 66.6 kB/s eta 0:00:07\n",
      "   ------------------------------------ --- 1.6/1.7 MB 58.5 kB/s eta 0:00:03\n",
      "   ------------------------------------ --- 1.6/1.7 MB 58.5 kB/s eta 0:00:03\n",
      "   ------------------------------------ --- 1.6/1.7 MB 58.5 kB/s eta 0:00:03\n",
      "   ------------------------------------ --- 1.6/1.7 MB 58.5 kB/s eta 0:00:03\n",
      "   ------------------------------------ --- 1.6/1.7 MB 58.5 kB/s eta 0:00:03\n",
      "   ------------------------------------ --- 1.6/1.7 MB 58.5 kB/s eta 0:00:03\n",
      "   ------------------------------------ --- 1.6/1.7 MB 58.5 kB/s eta 0:00:03\n",
      "   ------------------------------------ --- 1.6/1.7 MB 58.5 kB/s eta 0:00:03\n",
      "   ------------------------------------ --- 1.6/1.7 MB 58.5 kB/s eta 0:00:03\n",
      "   ------------------------------------ --- 1.6/1.7 MB 58.5 kB/s eta 0:00:03\n",
      "   ------------------------------------ --- 1.6/1.7 MB 58.5 kB/s eta 0:00:03\n",
      "   ------------------------------------ --- 1.6/1.7 MB 58.5 kB/s eta 0:00:03\n",
      "   ------------------------------------ --- 1.6/1.7 MB 58.5 kB/s eta 0:00:03\n",
      "   ------------------------------------ --- 1.6/1.7 MB 58.5 kB/s eta 0:00:03\n",
      "   ------------------------------------ --- 1.6/1.7 MB 58.5 kB/s eta 0:00:03\n",
      "   ------------------------------------ --- 1.6/1.7 MB 58.5 kB/s eta 0:00:03\n",
      "   ------------------------------------ --- 1.6/1.7 MB 58.5 kB/s eta 0:00:03\n",
      "   ---------------------------------------- 1.7/1.7 MB 56.0 kB/s eta 0:00:00\n",
      "Installing collected packages: tf-keras\n",
      "Successfully installed tf-keras-2.18.0\n"
     ]
    },
    {
     "name": "stderr",
     "output_type": "stream",
     "text": [
      "\n",
      "[notice] A new release of pip is available: 24.2 -> 25.0.1\n",
      "[notice] To update, run: python.exe -m pip install --upgrade pip\n"
     ]
    }
   ],
   "source": [
    "! pip install tf-keras "
   ]
  }
 ],
 "metadata": {
  "kernelspec": {
   "display_name": "base",
   "language": "python",
   "name": "python3"
  },
  "language_info": {
   "codemirror_mode": {
    "name": "ipython",
    "version": 3
   },
   "file_extension": ".py",
   "mimetype": "text/x-python",
   "name": "python",
   "nbconvert_exporter": "python",
   "pygments_lexer": "ipython3",
   "version": "3.12.3"
  }
 },
 "nbformat": 4,
 "nbformat_minor": 2
}
